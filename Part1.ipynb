{
 "cells": [
  {
   "cell_type": "markdown",
   "metadata": {
    "Collapsed": "false",
    "slideshow": {
     "slide_type": "slide"
    }
   },
   "source": [
    "# Version control with Git (JEM224)\n",
    "\n",
    "by **Martin Hronec**\n",
    "\n",
    "Sep 24-25\n",
    "\n",
    "![why version control](./pictures/GIT-LOGO.png)\n"
   ]
  },
  {
   "cell_type": "markdown",
   "metadata": {
    "slideshow": {
     "slide_type": "subslide"
    }
   },
   "source": [
    "### Why version control\n",
    "\n",
    "![why version control](http://www.phdcomics.com/comics/archive/phd101212s.gif)"
   ]
  },
  {
   "cell_type": "markdown",
   "metadata": {
    "Collapsed": "false",
    "slideshow": {
     "slide_type": "subslide"
    },
    "toc-hr-collapsed": true,
    "toc-nb-collapsed": true
   },
   "source": [
    "### What is a *version control*\n",
    "\n",
    "* *version control* is a method for tracking changes to source code\n",
    "* from Wikipedia: \"the management of changes to documents, computer programs, large web sites, and other collections of information.\"\n",
    "* it enables effective collaboration\n",
    "    * who wrote this part of code?\n",
    "    * when was this part of code last edited?\n",
    "    * why/when did it all stop working?\n",
    "    \n",
    "* where do see version control? "
   ]
  },
  {
   "cell_type": "markdown",
   "metadata": {
    "Collapsed": "false",
    "slideshow": {
     "slide_type": "subslide"
    }
   },
   "source": [
    "### What is *Git* - in XKCD words\n",
    "\n",
    "![caption](https://imgs.xkcd.com/comics/git.png)\n",
    "\n",
    "* we will try to do it a little differntly."
   ]
  },
  {
   "cell_type": "markdown",
   "metadata": {
    "Collapsed": "false",
    "slideshow": {
     "slide_type": "subslide"
    }
   },
   "source": [
    "### What is *Git*\n",
    "\n",
    "* *Git* is a revision control system, a program to manage your source code history\n",
    "    * it is strictly a command-line tool\n",
    "* standard for version control\n",
    "* can be used for:\n",
    "    * small projects with one developer\n",
    "    * huge projects with thousands of contributors\n",
    "            * e.g. working remotely by hosting a code on public servers like GitHub, GitLab, etc.\n",
    "\n",
    "* Git is a free open source system\n",
    "* available on Unix based platforms, Windows and macOS\n",
    "\n",
    "* Git has a distributed architecture\n",
    "    * means that every person contributing to a repository has full copy of the repository\n",
    "\n",
    "\n",
    "* majority of state-of-the-art software projects under Git:\n",
    "    * Python's [pandas](https://github.com/pandas-dev/pandas)\n",
    "    * [tensorflow](https://github.com/tensorflow/tensorflow)\n",
    "    * editor [Visual Studio Code](https://github.com/microsoft/vscode)\n",
    "    * [kubernetes](https://github.com/kubernetes/kubernetes)\n",
    "    * etc.\n",
    "\n",
    "* we will try to approach Git bottom-up, i.e. starting with it's data model\n",
    "    * learning Git top-down (starting with its interface / command-line interface) can lead to a lot of confusion\n",
    "* it can be *understood*\" instead of just *memorized*"
   ]
  },
  {
   "cell_type": "markdown",
   "metadata": {
    "Collapsed": "false",
    "slideshow": {
     "slide_type": "subslide"
    }
   },
   "source": [
    "### Short history\n",
    "\n",
    "* created in 2005 by Linus Torvalds to help manage the task of developing the Linux kernel\n"
   ]
  },
  {
   "cell_type": "markdown",
   "metadata": {
    "slideshow": {
     "slide_type": "subslide"
    }
   },
   "source": [
    "### What is GitHub\n",
    "\n",
    "* provides hosting for software development and version control using Git\n",
    "* from an youtube comment on one of the Git tutorials:\n",
    "    * \"Git is related to Github the same way porn is related to Pornhub.\""
   ]
  },
  {
   "cell_type": "markdown",
   "metadata": {
    "Collapsed": "false",
    "slideshow": {
     "slide_type": "slide"
    }
   },
   "source": [
    "## Installation, setup & getting help\n",
    "\n",
    "* check if installed in terminal/command-line by `git --version`\n",
    "* [official source](https://git-scm.com/book/en/v2/Getting-Started-Installing-Git)\n",
    "    * you can go with the *Git Credential Manager Core* option\n",
    "* register a [Github](https://github.com/) account\n",
    "* set up your Git using `git config`\n",
    "    * name: `git config --global user.name \"<your name>\"`\n",
    "    * email: `git config --global user.email <your email>`\n",
    "    * text editor: `git config --global core.editor \"code --wait\" (for VS code)`\n",
    "    * diff tool:  `git config --global merge.tool vimdiff`\n",
    "        * don't worry about the diff tool, we will talk about it later\n",
    "* configuration variables stored in 3 different places:\n",
    "    * /etc/gitconfig file - values for every user on the system and all repositories\n",
    "        * `git config --system`\n",
    "    * ~/.gitconfig file - specific to the user\n",
    "        * `git config --global`\n",
    "    * .git/config in the specific repository\n",
    "        * each level overrides values in the previous level\n",
    "        \n",
    "* check your settings using `git config --list` or `git config <specific key>` \n",
    " \n",
    "* to get help even offline use`git help <verb>` or `git <verb> --help`\n",
    "    * e.g. `git help config`"
   ]
  },
  {
   "cell_type": "markdown",
   "metadata": {
    "slideshow": {
     "slide_type": "slide"
    }
   },
   "source": [
    "## Command line interface\n",
    "\n",
    "* **a shell** is a user interface for access to an operating system's services\n",
    "    * it is named a shell because it is the outermost layer around the operating system\n",
    "    \n",
    "* shells use \n",
    "    * command-line interface (CLI)\n",
    "        * commands (and syntax) knowledge necessery\n",
    "        * shell-specific scripting language (like bash)\n",
    "        * bash is a popular default shell on Linux and macOS\n",
    "            * bash is an acronym for *Bourne Again Shell*\n",
    "    * graphical user interface (GUI)\n",
    "        * easy-to-use with certain disadvantages\n",
    "\n",
    "* at its core, Git is a set of command line utility programs that are designed to execute on a Unix style command-line environment\n",
    "* operating systems like Linux and macOX both include built-in Unix command line terminals\n",
    "* Git bash is an application for Microsoft Windows environments which provides an emulation layer for a Git command line experience\n",
    "* Git Bash is a package that installs Bash, some common bash utilities and Git on a Windows machine\n",
    "    * it has the same operations as a standard Bash experience\n",
    "* Git bash comes included as part of the Git for Windows package"
   ]
  },
  {
   "cell_type": "markdown",
   "metadata": {
    "slideshow": {
     "slide_type": "subslide"
    }
   },
   "source": [
    "### Bash basics\n",
    "\n",
    "* `echo` returns whatever you type at the shell prompt\n",
    "\n",
    "* `pwd` prints the current working directory\n",
    "    * the current working directory is the default place where the shell commands will look for data files \n",
    "* the UNIX file hierarchy has a tree structure\n",
    "    * to reach a particular folder or file, we need to traverse certain paths within this tree structure\n",
    "    * paths separate every node of the above structure with the help of a slash character - `/`\n",
    "* `ls <directory>` to list contents of a directory\n",
    "    * `ls <directory> -a` to list all hidden files\n",
    "    \n",
    "* `cd <directory>` changes the active directory to the path specified\n",
    "    * `cd ..` changes to the parent directory\n",
    "    * `cd` changes to the HOME directory\n",
    "\n",
    "* `mkdir` creates a folder\n",
    "* `touch` creates an empty file\n",
    "* `rm` delete a file\n",
    "    * `rm -r *` deletes a folder with all its contents\n",
    "\n",
    "* the redirection operator `>` will redirect the normal output initially intended to be  on stdout and print it directly into the file.\n",
    "\n",
    "    * `echo \"Git is awesome.\" > file.txt` \n",
    "* `cat` reads a file and outputs its content\n"
   ]
  },
  {
   "cell_type": "markdown",
   "metadata": {
    "Collapsed": "false",
    "slideshow": {
     "slide_type": "slide"
    }
   },
   "source": [
    "## Git's data model \n",
    "\n",
    "* version control is a method for tracking changes to source code\n",
    "* modelling history of a collection of files and folders within some top-level directory through relating snapshots\n",
    "* to be a Git repository, we need objects and system for naming those objects\n",
    "    * refs is the system for naming those objects\n",
    "    \n",
    "* a history is a directed acyclic graph (DAG) of snapshots\n",
    "    * each snapshot refers to a set of \"parents (previous snapshots)\n",
    "        * why set of \"parent\" snapshots instead of just one \"parent\" snapshot?\n",
    "* in Git's terms:        \n",
    "    * these snapshots are called **commits**\n",
    "    * a file is called a **blob** (a bunch of bytes)\n",
    "    * a directory is called a **tree**\n",
    "        * maps names to blobs or trees (directories can contain other directories)\n",
    "        \n",
    "        \n",
    "* a \"snapshot\" is basically the top-level tree in your project\n",
    "\n",
    "* ASCII art for pedagogical purposes:\n",
    "\n",
    "`root_folder (tree)\n",
    "|\n",
    "+- folder (tree)\n",
    "|  |\n",
    "|  + file.txt (blob, contents = \"A barber learns to shave by shaving fools.\")\n",
    "|\n",
    "+- another_file.txt (blob, contents = \"I don't give a git.\")`\n"
   ]
  },
  {
   "cell_type": "markdown",
   "metadata": {
    "Collapsed": "false",
    "slideshow": {
     "slide_type": "subslide"
    }
   },
   "source": [
    "### Objects and content-addressing\n",
    "\n",
    "* an \"object\" is a blob, tree, commit\n",
    "* in Git data store, all objects are content-addressed by their **SHA-1 hash**\n",
    "    * SHA-1 hash is \n",
    "    * more on this later\n"
   ]
  },
  {
   "cell_type": "markdown",
   "metadata": {
    "Collapsed": "false",
    "slideshow": {
     "slide_type": "subslide"
    }
   },
   "source": [
    "### References\n",
    "\n",
    "* all snapshots can be identified by their SHA-1 hash\n",
    "    * inconvevient - try to remember strings of 40 hexadecimal characters\n",
    "    * Git's solution: readeble names for SHA-1 hashes - **references**\n",
    "    \n",
    "* references are pointers to commits\n",
    "* objects are immutable (building blocks)\n",
    "* references are mutable (can be updated to point to a new commit)\n",
    "    * e.g. `master` reference - typically pointing to the the main \"codebase\"\n",
    "    \n",
    "* we want a notion of \"where we currently are\" (e.g. in the history of the project)\n",
    "    * when we take a new snapshot, we know what it is related to\n",
    "    * \"where we are/what are we looking at\" is a special reference called **HEAD**\n"
   ]
  },
  {
   "cell_type": "markdown",
   "metadata": {
    "Collapsed": "false",
    "slideshow": {
     "slide_type": "slide"
    }
   },
   "source": [
    "## Git repository\n",
    "\n",
    "* a Git **repository** is the data objects and references\n",
    "* all Git stores are objects and references\n",
    "    * easy\n",
    "    \n",
    "* all git commands map to some manipulation of the DAG which captures the relation between snapshots (history and development) \n",
    "    * e.g. by adding objects and adding/updating references\n",
    "    \n",
    "* wherenever you're typing in any command, think about what manipulation the command is making to the underlying graph data structure\n",
    "* similarly, if you're trying to make a particular kind of change to the DAG, there is probably a command corresponding to it"
   ]
  },
  {
   "cell_type": "markdown",
   "metadata": {
    "Collapsed": "false",
    "slideshow": {
     "slide_type": "subslide"
    }
   },
   "source": [
    "### Initializing repositories\n",
    "\n",
    "* 2 main options to create a Git repository:\n",
    "    * `git init` \n",
    "    * `git clone https://github.com/martinhronec/version_control_IES.git`\n",
    "        * we will talk about this option around Git remotes\n",
    "\n",
    "* `git init` creates a new subdirectory named *.git* that contains all information for version control\n",
    "    * converts an existing (unversioned) project\n",
    "    * initiates a new empty repository\n",
    "\n",
    "* the hidden *.git* repository contains\n",
    "\n",
    "``` git\n",
    "asd;jlf\n",
    "\n",
    "```\n"
   ]
  },
  {
   "cell_type": "markdown",
   "metadata": {
    "Collapsed": "false",
    "slideshow": {
     "slide_type": "subslide"
    }
   },
   "source": [
    "### Lifecycle of a file/blob\n",
    "\n",
    "* each file in the working directory can be in one of two states: \n",
    "    * tracked\n",
    "        * files that were in the last snapshot - can be *modified, unmodified or untracked*\n",
    "    * untracked\n",
    "        * any files that weren't in the last snapshot are are not in the staging area (explained later)\n",
    "* a created file will not be automatically untracked until you add it\n",
    "    * when you clone a repository (instead of `git init`-ing it, all of your files will be tracked and unmodified \n",
    "       \n",
    "![From Git pro book](./pictures/file_lifecycle.png)\n"
   ]
  },
  {
   "cell_type": "markdown",
   "metadata": {
    "Collapsed": "false",
    "slideshow": {
     "slide_type": "subslide"
    }
   },
   "source": [
    "### Status of the files/repository\n",
    "\n",
    "* `git status` shows which files are in which state\n",
    "\n",
    "* create a new file, e.g. hello_world.txt\n",
    "    * hello_world.txt is *untracked*\n",
    "    * Git won't start tracking it until we explicitly tell it to\n",
    "* to start tracking the hello_world.txt file, use `git add hello_world.txt`\n",
    "    * run `git status` again to see that file is staged now\n",
    "* to see what is staged (what will commited/snapshotted next,`git diff --cached` or `git diff --staged` \n",
    "    * `git diff` shows you the exact lines added and removed\n",
    "        * can be used between different objects, e.g. branches as we will see later on\n",
    "* `git diff` by itself doesn’t show all changes made since your last commit—only changes that are still unstaged. "
   ]
  },
  {
   "cell_type": "markdown",
   "metadata": {
    "slideshow": {
     "slide_type": "subslide"
    }
   },
   "source": [
    "### Main sections of a Git project\n",
    "\n",
    "![.](./pictures/git_main_sections.PNG)\n",
    "\n"
   ]
  },
  {
   "cell_type": "markdown",
   "metadata": {
    "Collapsed": "false",
    "slideshow": {
     "slide_type": "subslide"
    }
   },
   "source": [
    "### Commiting the changes\n",
    "\n",
    "* `git commit` as equivalent of \"saving\"\n",
    "    * only staged things go to the commit\n",
    "* typing only `git commit` will launch a selected (in config file) editor\n",
    "    * write `git commit <file-to-commit> -m \"Commit message\"` if you want to skip the detailed message\n",
    "* the commit shows some self-info\n",
    "    * which branch you committed to (master)\n",
    "        * branch is an \"independent\" line of development - more later\n",
    "    * what SHA-1 checksum it has\n",
    "    * how many files were changed (and statistics about lines added and removed in the commit)\n",
    "    \n",
    "* only staged files are commited\n",
    "    * anything not staged is just chilling there modified\n",
    "\n",
    "* every commit (you make), is a snapshot of your project\n",
    "    * you can revert to it later\n",
    "    \n",
    "* if you want to skip the staging area, just use `git commit -a -m \"<commit-message>\"\n",
    "* compare what happened to the actions shown on the previous picture \"File Status Lifecycle.\""
   ]
  },
  {
   "cell_type": "markdown",
   "metadata": {
    "Collapsed": "false",
    "slideshow": {
     "slide_type": "subslide"
    }
   },
   "source": [
    "### The commit history\n",
    "\n",
    "* `git log` \n",
    "    * with no arguments, `git log` lists the commits made in that repository in reverse chronological order. \n",
    "    * it lists each commit with its SHA-1 checksum, the author's name and e-mail, the date written, and the commit message\n",
    "* plenty of options with `git log`\n",
    "* couple of usefull ones:\n",
    "    * `git log -p -2` shows the diff introduced in each commit, `-2` limits the output to only the last two entries\n",
    "    * `git log --stat` shows some abbreviated stats for each commit, e.g. list of modified files, how many files were changed and how many lines in those files were added and removed\n",
    "    * `git log --pretty=oneline`, \n",
    "    * `git log --graph`       "
   ]
  },
  {
   "cell_type": "markdown",
   "metadata": {
    "slideshow": {
     "slide_type": "subslide"
    }
   },
   "source": [
    "### Three trees of Git\n",
    "\n",
    "* we've just seen the basic (committing) part of the Git workflow\n",
    "* try understand the Git's internal state management system first, everything should be easier later\n",
    "\n",
    "* **the working directory** is in sync with the local filesystem\n",
    "    * it represents the immediate changes made to content in files and directories\n",
    "    * can be seen using `git status` (or just by looking at the files and folders the way you are used to)\n",
    "* the **staging index** is tracking working directory changes, that have been promoted with `git add` (to be stored in the next commit)\n",
    "    * a complex internal caching mechanism hidden from the user\n",
    "* to accurately see the state of the staging index, use `git ls-files` \n",
    "    * a debugging toolfor inspecting the state of the staging index tree\n",
    "    * `-s` stands for the `--stage` option\n",
    "    \n",
    "* **the commmit history**     \n",
    "    \n",
    "* SHA-1 hash of the staging index is different than the one in the Commit History\n",
    "* the git status shows differences between the commit history and the staging index. \n",
    "    * after adding file (including to the staging area, its hash changes \n",
    "    "
   ]
  },
  {
   "cell_type": "markdown",
   "metadata": {
    "Collapsed": "false",
    "slideshow": {
     "slide_type": "slide"
    }
   },
   "source": [
    "## Example of Git's data model\n",
    "\n",
    "* after the first commit:\n",
    "    * Git checksums each subdirectory (only the root project directory in this case)\n",
    "    * stores objects (one file in our case) in the Git repository\n",
    "    * then it creates a commit object that has the metadata and a pointer to the root project tree so it can re-create that snapshot when needed\n",
    "    \n",
    "* repository now contains 3 objects:\n",
    "    * one blob for the content of your file, \n",
    "    * one tree that lists the contents of the directory and specifies which file names are stored as which blobs \n",
    "    * one commit with the pointer to that root tree and all the commit metadata\n",
    "\n",
    "![caption](./pictures/single_commit_detailed.PNG)\n"
   ]
  },
  {
   "cell_type": "markdown",
   "metadata": {
    "Collapsed": "false",
    "slideshow": {
     "slide_type": "subslide"
    }
   },
   "source": [
    "* we will use [git-graph](https://github.com/hoduche/git-graph) to quickly show the underlying data model of our repository\n",
    "    * see the github page for the color reference\n",
    "* e.g.\n",
    "\n",
    "![caption](pictures/2020_09_22_19_37_48_git_graph.dot.png)\n",
    "\n",
    "* note that this graph does not correspond to the above one (different hashes)"
   ]
  },
  {
   "cell_type": "markdown",
   "metadata": {
    "Collapsed": "false",
    "slideshow": {
     "slide_type": "subslide"
    }
   },
   "source": [
    "### 2-commits repository representation\n",
    "\n",
    "* if you make some changes and commit againt, the next commit stores a pointer to the commit that came immediately before it\n",
    "  \n",
    "![caption](pictures/2020_09_22_19_37_51_git_graph.dot.png)"
   ]
  },
  {
   "cell_type": "markdown",
   "metadata": {
    "Collapsed": "false",
    "slideshow": {
     "slide_type": "subslide"
    }
   },
   "source": [
    "### 3-commits repository representation\n",
    "![caption](pictures/2020_09_22_19_37_54_git_graph.dot.png)"
   ]
  },
  {
   "cell_type": "markdown",
   "metadata": {
    "Collapsed": "false",
    "slideshow": {
     "slide_type": "slide"
    }
   },
   "source": [
    "## Git internals\n",
    "    \n",
    "* originally Git was a toolkit for rather than a \"user-friendly\" VCS\n",
    "    * => it has a number of \"low-level\" subcommands \n",
    "* low-level commands are generally called \"plumbing' commands\n",
    "* more \"user-friendly\" commands are called \"porcelain\" commands\n",
    "\n",
    "* many of these commands aren't meant to be used manually on the command line\n",
    "    * rather used as building blocks for new tools and custom scripts\n",
    "    \n",
    "* when you create a new Git repository, Git creates a .git directory\n",
    "    * this is where almost everything that Git stores and manipulates resides\n",
    "    * to back up or clone your repository, copy this single directory\n",
    "    \n",
    "* now we will talk about what you can see in a repository"
   ]
  },
  {
   "cell_type": "markdown",
   "metadata": {
    "slideshow": {
     "slide_type": "subslide"
    }
   },
   "source": [
    "### Git objects \n",
    "\n",
    "* Git is a content-addressable filesystem\n",
    "    * Git is a simple key-value data store \n",
    "\n",
    "* contents of the .git folder:\n",
    "    * *config* file contains your project-specific configuration options\n",
    "    * *info* directory keeps a global exclude file for ignored patterns that you don't want to track in a .gitignore file\n",
    "    * *hooks* directory contains your client-side or server-side hook scripts\n",
    "    * **HEAD** points to the branch you currently have checked out\n",
    "    * **objects** directory stores all the content for your database\n",
    "    * **refs** directory stores pointers into commit objects \n",
    "    * **index** file is where Git stores your staging area\n",
    "    "
   ]
  },
  {
   "cell_type": "markdown",
   "metadata": {
    "slideshow": {
     "slide_type": "subslide"
    }
   },
   "source": [
    "### Hashing\n",
    "\n",
    "* `git hash-object` takes some data and stores it in your .git/objects directory (the object database) and gives you back the unique key that now refers to that data object\n",
    "* with `git init`, Git initializes the objects directory and creates a pack and info subdirectories in it, but there are no regular files\n",
    "* the output from the above command is a 40-character checksum hash\n",
    "    * this is a SHA-1 hash - a checksum of the content you're storing plus a header\n",
    "* in your objects directory, you can see that it now contains a file for that new content\n",
    "    * Git stores data as a single file per piece of content\n",
    "\n",
    "* once you have content in your object database, you can examine that content with the `git cat-file`\n",
    "    * a Swiss army knife command for inspecting Git objects \n",
    "    * `-p` : first figure out the type of content, then display it appropriately \n",
    "    * `-t` : tells you the object type of any object in Git given its SHA-1 key\n",
    "* writing into file, saving it, hashing it and then saving new content and hashing it leads to object database having both versions of this new file\n",
    "* we can delete local copy of the created file \n",
    "    * and use Git to retrieve it from the objects database\n",
    "* remembering the SHA-1 key for each version of your file isn't practical\n",
    "    * plus you are not storing the filename in your system, just the content\n",
    "    * this object type is called a *blob*"
   ]
  },
  {
   "cell_type": "markdown",
   "metadata": {
    "Collapsed": "false",
    "slideshow": {
     "slide_type": "subslide"
    }
   },
   "source": [
    "### Removing files\n",
    "\n",
    "* not a \"plumbing command\"\n",
    "* to remove a file from Git, remove it from your tracked files \n",
    "    * more accurately: remove it from the staging area and commit\n",
    "    * `git rm <file>` stages the file's removal\n",
    "    * next time you commit, the file will be gone and no longer tracked\n",
    "\n",
    "* another usecase:\n",
    "    * keep the file in the working tree, but remove it from the staging area (i.e. making it untracked)\n",
    "    * `git rm --cached <file>`\n",
    "\n",
    "* there is no option to remove a file from only the working directory\n",
    "\n",
    "* use `git rm -n` for a \"dry run\" - shows files will be removed\n",
    "\n",
    "* files, directories, and file-glob patterns can be passed to the `git rm` command \n",
    "    * to remove a directory, use `git rm -r` which stands  for \"recursive\"\n",
    "\n",
    "* `git rm` does not remove branches (more when talking about branches)\n",
    "\n",
    "* why not simply deleting the file/folder on the file-system level?\n",
    "    * you can and then stage the change and commit\n",
    "    * `git rm` is convenience"
   ]
  },
  {
   "cell_type": "markdown",
   "metadata": {
    "Collapsed": "false",
    "slideshow": {
     "slide_type": "subslide"
    }
   },
   "source": [
    "### Moving files\n",
    "\n",
    "* Git doesn't explicitly track file movement\n",
    "    * if you rename a file in Git no metadata is stored in Git that tells it you renamed the file\n",
    "\n",
    "* to rename a file you can run\n",
    "    * `git mv <file_from> <file_to>`\n",
    "         * you will see in `git status` that Git considers it a renamed file\n",
    "    * it is equivalent to running something like this:\n",
    "        * `mv <file_from> <file_to>`\n",
    "          `git rm <file_from>`\n",
    "          `git add <file_to>`"
   ]
  },
  {
   "cell_type": "markdown",
   "metadata": {
    "Collapsed": "false",
    "slideshow": {
     "slide_type": "subslide"
    }
   },
   "source": [
    "### Ignoring files\n",
    "\n",
    "* when I have shown you git-graphs, you might have noticed the untracked files in my repository\n",
    "    * these were precisely the produced graphs we might wish to ignore\n",
    "* a class of files we do not want to add but also do not want it being shown as untracked\n",
    "    * e.g. data, log files, files from the build\n",
    "* set up a .gitignore file before you start your commiting spree\n",
    "\n",
    "* some rules:\n",
    "    * blank lines or lines starting with # are ignored\n",
    "    * standard glob patterns work.\n",
    "    * you can end patterns with a forward slash (/) to specify a directory\n",
    "    * you can negate a pattern by starting it with an exclamation point (!)\n",
    "    \n",
    "* *glob patterns* are like simplified regular  expressions that shells use\n",
    "    * An asterisk (*) matches zero or more characters\n",
    "    * [abc] matches any character inside the brackets (i.e. a, b, or c)\n",
    "    * A question mark matches a single character\n",
    "    * [0-9] matches any character betweent the start and the end\n",
    "   \n",
    "* there are templates of .gitignore files available for most of the languages and types of the projects, see option on GitHub when creating a repository"
   ]
  },
  {
   "cell_type": "markdown",
   "metadata": {
    "Collapsed": "false",
    "slideshow": {
     "slide_type": "slide"
    }
   },
   "source": [
    "## Undoing changes \n",
    "\n",
    "* `git log` to show history \n",
    "    * `git log --graph`\n",
    "    \n",
    "* let's discuss the available 'undo' Git strategies and commands\n",
    "    * `git reset`\n",
    "    * `git revert`\n",
    "    * `git checkout`\n",
    "    * and more\n",
    "    \n",
    "* Git does not have a traditional 'undo ' system\n",
    "* careful, you can't always undo some of the undos!"
   ]
  },
  {
   "cell_type": "markdown",
   "metadata": {
    "Collapsed": "true",
    "slideshow": {
     "slide_type": "subslide"
    }
   },
   "source": [
    "## Checkout\n",
    "\n",
    "* we've looked at the history and we've taken the file and modified it\n",
    "    * we can use the history besides reading the messages\n",
    "\n",
    "* `git checkout`\n",
    "    * allows you to do many things \n",
    "    * one thing it allows you to do is to move in your version history\n",
    "\n",
    "* give `git checkout <commit id>` (you can provide just the first couple of characters)\n",
    "    * it will change the state of the current working directory to how it was at that commit \n",
    "\n",
    "* `git checkout <commit hash>` shows the state of the repository at that specific commit\n",
    "* to go back to the \"main\" line of development: `git checkout master`"
   ]
  },
  {
   "cell_type": "markdown",
   "metadata": {
    "slideshow": {
     "slide_type": "subslide"
    }
   },
   "source": [
    "### Undoing a commit using `git checkout`\n",
    "\n",
    "* the idea behind any VCS: store \"safe\" copies of a project\n",
    "* to see the snapshot of repository in some previous time, use that snapshot's/commit's reference to visit it \n",
    "    * `git checkout <commit_id>` \n",
    "* ! when you checkout a previous commit, HEAD no longer points to a branch - it points directly to a commit\n",
    "    * this is called a **detached HEAD** state\n",
    "        * checking out a previous commit leads to HEAD no longer pointing to *master*\n",
    "     \n",
    "* in a detached state, any new commits you make will be orphaned, when you move HEAD back to the master\n",
    "* orphaned commits are up for deletion by Git's garbage collector\n",
    "    * garbage collector runs on a configured interval and permanently destroys orphaned commits\n",
    "* from the detached HEAD state, you can create a new branch using `git checkout -b <master/branch_name>`\n",
    "    * more on this later\n",
    "    * ! unfortunately, if you need the previous state of master, this strategy is not a very good idea\n",
    " \n",
    "* checking out an old file does not lead to movement of the HEAD pointer (avoiding detached HEAD state)\n"
   ]
  },
  {
   "cell_type": "markdown",
   "metadata": {
    "slideshow": {
     "slide_type": "subslide"
    }
   },
   "source": [
    "### `git revert`\n",
    "\n",
    "* used for undoing changes to a repository's commit history\n",
    "* instead of removing the commit from the history, it figures out how to invert the changes introduced by the commit and appends a new commit with the resulting inverse content\n",
    "    * prevents Git from losing history\n",
    "* other 'undo' commands (e.g. `git checkout` and `git reset`) move the HEAD and branch ref pointers to a specified commit\n",
    "* Git revert also takes a specified commit, then:\n",
    "    * inverses the changes from that commit,\n",
    "    * creates a new \"revert commit\"\n",
    "    * the ref pointers are updated to point at the new revert commit\n",
    "    "
   ]
  },
  {
   "cell_type": "markdown",
   "metadata": {
    "slideshow": {
     "slide_type": "subslide"
    }
   },
   "source": [
    "### `git reset`\n",
    "\n",
    "* a complex and versatile tool for undoing changes\n",
    "* 3 primary forms of invocation\n",
    "    * `--soft`\n",
    "    * `--mixed`\n",
    "    * `--hard`\n",
    "* these 3 forms correspond to the Git's internal state management mechanisms\n",
    "    * HEAD\n",
    "    * the staging index\n",
    "    * the working directory\n",
    "    \n",
    "* at the surface level, the behaviour of `git reset` is similar to `git checkout`\n",
    "    * `git checkout` operates solely on the HEAD ref pointer\n",
    "    * `git reset` will move the HEAD ref pointer and the current brnach ref pointer\n",
    "\n",
    "* [git checkout vs. git reset](https://www.atlassian.com/git/tutorials/undoing-changes/git-reset)\n",
    "\n",
    "* the pointer to the commit history is always modified, arguments `--soft`, `--mixed` and `--hard` correspond to the ways we modify the staging index and working directory trees"
   ]
  },
  {
   "cell_type": "markdown",
   "metadata": {
    "slideshow": {
     "slide_type": "subslide"
    }
   },
   "source": [
    "### `git reset --hard`\n",
    "\n",
    "* the most direct and DANGEROUS option \n",
    "* the commit history ref pointers are updated to the specified commit\n",
    "* **the staging index and the working directory are reset to match that of the specified commit**\n",
    "    * any previously pending changes to the staging index and the working directory gets reset to match teh state of the commit tree\n",
    "    * any pending work not commited will be lost\n",
    "    * `git reset HEAD~2 --hard` to effectively remove the last two commits from the project history \n",
    "    * **NEVER PERFORM THE ABOVE OPERATION ON ALREADY PUBLISHED COMMITS (TO A SHARED REPOSITORY)**\n",
    "* this data loss cannot be undone!\n",
    "    * if you look at the objects database, removed commits will still be there, but only until next garbage collection by Git! "
   ]
  },
  {
   "cell_type": "markdown",
   "metadata": {
    "slideshow": {
     "slide_type": "subslide"
    }
   },
   "source": [
    "### `git reset --mixed`\n",
    "* the default opption\n",
    "    * it is the same as executing `git reset`\n",
    "* the ref pointers are updated\n",
    "* the staging index is reset to the state of the specified commit\n",
    "* any changes that have been undone from the staging index are moved to the working directory\n",
    "* compare this to the --hard reset case where we've lost these updates \n",
    "* `git reset HEAD <file>` is frequently used for unstaging a file"
   ]
  },
  {
   "cell_type": "markdown",
   "metadata": {
    "slideshow": {
     "slide_type": "subslide"
    }
   },
   "source": [
    "### `git reset --soft`\n",
    "\n",
    "* the ref pointers are updated and the reset stops there\n",
    "    * the staging index and the working directory are left untouched\n",
    "\n",
    "* this behaviour can be hard to clearly demonstrate\n",
    "\n",
    "* if you execute soft reset with the default argument of the target commit (which is HEAD), by default nothing will change since the commit history was already sitting on HEAD\n",
    "    * we need to provide it with some historical commit id\n",
    "    \n",
    "* possible usecases:\n",
    "    * useful if you committed to the wrong branch. all changes go back to staging area and move with you while you checkout the right branch\n",
    "    * the easiest way to squash that many commits would be to do `git reset --soft` and then commit\n",
    " "
   ]
  },
  {
   "cell_type": "markdown",
   "metadata": {
    "slideshow": {
     "slide_type": "subslide"
    }
   },
   "source": [
    "### Don't reset public history\n",
    "* don't use `git reset` when any snapshots have been pushed to a public repository \n",
    "    * you have to assume that other developers are reliant upon it"
   ]
  },
  {
   "cell_type": "markdown",
   "metadata": {
    "Collapsed": "false",
    "slideshow": {
     "slide_type": "subslide"
    }
   },
   "source": [
    "### Rewriting history - (brief summary)\n",
    "\n",
    "* **changing the last commit** `git commit --amend`\n",
    "    * takes your staging area and uses it for the commit (in case of no changes, the only thing you are ammending is your commit message\n",
    "    * running this command when there is nothing staged lets you edit the previous commit’s message without altering its snapshot\n",
    "    * `git commit --amend -m \"<updated commit message>`\n",
    "    * **!don't ammend public comments**\n",
    "    * `--no-edit` flag will allow you to make the amendment to your commit without changing its commit message\n",
    "        * amended commits are actually entirely new commits and the previous commit will no longer be on your current branch\n",
    "* **unstaging a staged file** `git reset HEAD <added_file>`\n",
    "* **unmodifying a modified file** `git checkout -- <modified_file>`\n",
    "    * *DANGER! : any changes have been reverted\n",
    "\n",
    "* we will talk more about the data recovery later\n",
    "* anything you lose that was never committed is likely never to be seen again "
   ]
  },
  {
   "cell_type": "markdown",
   "metadata": {
    "Collapsed": "false",
    "slideshow": {
     "slide_type": "slide"
    }
   },
   "source": [
    "## Git remotes\n",
    "\n",
    "* use remotes to collaborate remotely\n",
    "    * remotes are versions of your project that are hosted on the Internet or network somewhere\n",
    "    \n",
    "* **.git** folder represents an entire copy of the history, objects and the references and all the snapshots\n",
    "* to cooperate with other people, they also have the entire copy of the project\n",
    "    * your local copy is aware of other linked repositories\n",
    "\n",
    "* `git remote` lists all remotes that Git is aware of\n",
    "* `git remote -v` to show the URL\n",
    "* `git remote add <shortname> <url>`\n",
    "    * you can use `<shortname>`  on the command line in lieu of the whole URL\n",
    "    \n",
    "* e.g. `git fetch <shortname>` fetches all the information that you don't yet have in your repository\n",
    "    * it only pulls the data to your local repository - it doesn't automatically merge it with any of your work or modify what you're currently working on\n",
    "        * you have to merge it manually into your work\n",
    "        * if you have a branch set up to track a remote branch, you can use the git pull commmand to automatically fetch and then merge a remote branch into your current branch\n",
    "        \n",
    "* we will talk more about pushing and pulling from the remotes when talking about branches\n",
    "* `git remote show origin` to see more information about a particular remote\n",
    "* `git remote rename <old_shortname> <new_shortname>`\n",
    "* `git remote rm <shortname>`"
   ]
  },
  {
   "cell_type": "markdown",
   "metadata": {
    "slideshow": {
     "slide_type": "subslide"
    }
   },
   "source": [
    "* adding remote looks like this on a graph:\n",
    "\n",
    "![.](./pictures/added_remotes.png)"
   ]
  },
  {
   "cell_type": "markdown",
   "metadata": {
    "Collapsed": "false",
    "slideshow": {
     "slide_type": "subslide"
    }
   },
   "source": [
    "### The protocols\n",
    "\n",
    "* Git can use 4 major network protocols to transfer data:\n",
    "    * local\n",
    "        * the \"remote\" repository is in another directory on the same host\n",
    "        * `git clone <path_to_repository_>.git`\n",
    "    * Secure Shell (SSH)\n",
    "        * common transport protocol for Git\n",
    "    * Hypertext Transfer Protocol Secure (HTTPs)\n",
    "        * currently the most used protofocl for Git (smart HTTP version)\n",
    "    * the Git protocol \n",
    "\n",
    "* HTTPs and SSH are protocols that you should be aware of"
   ]
  },
  {
   "cell_type": "markdown",
   "metadata": {
    "Collapsed": "false",
    "slideshow": {
     "slide_type": "subslide"
    }
   },
   "source": [
    "### The HTTP/S protocol\n",
    "\n",
    "* \"smart\" HTTP is able to intelligently negiotiate data transfer (similar to SSH)\n",
    "    * before \"dumb\" HTTP, which was read only mostly\n",
    "* smart HTTP operates very similarly to the SSH or Git protocols but runs over standard HTTPS ports\n",
    "* can use various HTTP authentication mechanisms\n",
    "    * meaning it’s often easier on the user than something like SSH, since you can use things like username/password authentication rather than having to set up SSH keys.\n",
    "\n",
    "* the most popular way to use Git now, since it can be set up to both serve anonymously like the git:// protocol, and can also be pushed over with authentication and encryption like the SSH protocol\n",
    "    * instead of having to set up different URLs for these things, you can now use a single URL for both. \n",
    "    * If you try to push and the repository requires authentication (which it normally should), the server can prompt for a username and password.\n",
    "        * The same goes for read access.\n",
    "    "
   ]
  },
  {
   "cell_type": "markdown",
   "metadata": {
    "Collapsed": "false",
    "slideshow": {
     "slide_type": "subslide"
    }
   },
   "source": [
    "### The SSH protocol\n",
    "\n",
    "* common transport protocol for Git\n",
    "* SSH is the only network-based protocol that you can easily read from and write to\n",
    "    * other 2 (Git and HTTP) are generally read-only\n",
    "\n",
    "* to clone a Git repo over SSH you can use `git clone ssh://user@server:project.git`\n",
    "    * or if you use `git clone user@server:project.git`, Git assumes SSH\n",
    "\n",
    "* set it up to pair your local repos with the github following [this tutorial](https://docs.github.com/en/github/authenticating-to-github/connecting-to-github-with-ssh)\n",
    "\n",
    "* PROS:\n",
    "    * use it if you want authenticated write access to your repository over a network\n",
    "    * easy to set up\n",
    "        \n",
    "    * secure (all data transfer is encrypted and authenticated\n",
    "    * efficient (data as compact as possible)\n",
    "    \n",
    "* CONS:\n",
    "    *  you can't serve anonymous access of your repository over it\n",
    "        * people must have access to your machine over SSH to access it (even in read-only capacity)"
   ]
  },
  {
   "cell_type": "markdown",
   "metadata": {},
   "source": []
  }
 ],
 "metadata": {
  "celltoolbar": "Slideshow",
  "kernelspec": {
   "display_name": "Python 3.10.7 64-bit",
   "language": "python",
   "name": "python3"
  },
  "language_info": {
   "codemirror_mode": {
    "name": "ipython",
    "version": 3
   },
   "file_extension": ".py",
   "mimetype": "text/x-python",
   "name": "python",
   "nbconvert_exporter": "python",
   "pygments_lexer": "ipython3",
   "version": "3.10.7"
  },
  "toc-autonumbering": false,
  "toc-showcode": false,
  "toc-showmarkdowntxt": false,
  "toc-showtags": false,
  "vscode": {
   "interpreter": {
    "hash": "1f0e6d99f3103fd78365fe1cf7b2d51239fa0878786db9cbdfe89bc88a3151d3"
   }
  }
 },
 "nbformat": 4,
 "nbformat_minor": 4
}
